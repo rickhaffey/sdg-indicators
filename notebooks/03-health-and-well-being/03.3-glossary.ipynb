{
 "cells": [
  {
   "cell_type": "markdown",
   "metadata": {},
   "source": [
    "# 3.3 Glossary"
   ]
  },
  {
   "cell_type": "markdown",
   "metadata": {},
   "source": [
    "* **basic management unit**: A basic management unit (BMU) is defined in terms of management, supervision and monitoring responsibility. A BMU for the TB programme may have several treatment facilities, one or more laboratories\n",
    "and one or more hospitals. The defining aspect is the presence of a manager or coordinator who oversees TB\n",
    "control activities for the unit and who maintains a master register of all TB patients being treated; this\n",
    "register is used to monitor the programme and report on indicators to higher administrative levels. Typically,\n",
    "the units correspond to the government’s second subnational administrative division, which might be called,\n",
    "for example, a “district” or “county”. It is internationally recommended that a BMU cover a population of\n",
    "between 50 000 and 150 000 or of up to 300 000 for large cities. [DRFT](#DRFT) - p.13"
   ]
  },
  {
   "cell_type": "markdown",
   "metadata": {},
   "source": [
    "## External References\n",
    "\n",
    "* <span id=\"DRFT\">(DRFT) [Definitions and reporting framework for tuberculosis – 2013 revision (updated December 2014)](http://apps.who.int/iris/bitstream/handle/10665/79199/9789241505345_eng.pdf)</span>"
   ]
  }
 ],
 "metadata": {
  "kernelspec": {
   "display_name": "Python (sdgs)",
   "language": "python",
   "name": "sdgs"
  },
  "language_info": {
   "codemirror_mode": {
    "name": "ipython",
    "version": 3
   },
   "file_extension": ".py",
   "mimetype": "text/x-python",
   "name": "python",
   "nbconvert_exporter": "python",
   "pygments_lexer": "ipython3",
   "version": "3.6.4"
  }
 },
 "nbformat": 4,
 "nbformat_minor": 2
}
